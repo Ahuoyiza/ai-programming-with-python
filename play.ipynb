{
 "cells": [
  {
   "cell_type": "code",
   "execution_count": 5,
   "metadata": {},
   "outputs": [
    {
     "name": "stdout",
     "output_type": "stream",
     "text": [
      "['df', 'ka', 'lf', 'jf', 'n_']\n"
     ]
    }
   ],
   "source": [
    "s = 'sophia'\n",
    "def solution(s):\n",
    "    if len(s) % 2 != 0:\n",
    "        s += '_'\n",
    "    split_s = [s[i:i+2] for i in range(0, len(s), 2)]\n",
    "    return split_s\n",
    "\n",
    "print (solution('dfkalfjfn'))"
   ]
  }
 ],
 "metadata": {
  "kernelspec": {
   "display_name": "Python 3",
   "language": "python",
   "name": "python3"
  },
  "language_info": {
   "codemirror_mode": {
    "name": "ipython",
    "version": 3
   },
   "file_extension": ".py",
   "mimetype": "text/x-python",
   "name": "python",
   "nbconvert_exporter": "python",
   "pygments_lexer": "ipython3",
   "version": "3.12.0"
  }
 },
 "nbformat": 4,
 "nbformat_minor": 2
}
